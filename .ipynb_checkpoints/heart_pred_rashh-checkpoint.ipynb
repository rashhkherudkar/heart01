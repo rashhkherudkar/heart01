{
 "cells": [
  {
   "cell_type": "code",
   "execution_count": null,
   "id": "f6882b38",
   "metadata": {},
   "outputs": [],
   "source": [
    "import numpy as np\n",
    "import pandas as pd\n",
    "\n",
    "from sklearn.linear_model import LogisticRegression\n",
    "from sklearn.model_selection import train_test_split\n",
    "\n",
    "from sklearn.metrics import confusion_matrix, classification_report, accuracy_score\n",
    "from sklearn.metrics import recall_score,precision_score, f1_score\n",
    "from sklearn.metrics import plot_confusion_matrix\n",
    "from sklearn.metrics import roc_curve,roc_auc_score, auc\n",
    "\n",
    "\n",
    "import matplotlib.pyplot as plt\n",
    "import seaborn as sns\n",
    "\n",
    "import warnings\n",
    "warnings.filterwarnings(\"ignore\")"
   ]
  },
  {
   "cell_type": "code",
   "execution_count": null,
   "id": "1f3d4af8",
   "metadata": {},
   "outputs": [],
   "source": [
    "df=pd.read_csv(\"heart.csv\")\n",
    "df"
   ]
  },
  {
   "cell_type": "code",
   "execution_count": null,
   "id": "79aa817b",
   "metadata": {},
   "outputs": [],
   "source": [
    "df.info()"
   ]
  },
  {
   "cell_type": "code",
   "execution_count": null,
   "id": "7da8c9da",
   "metadata": {},
   "outputs": [],
   "source": [
    "df['target'].value_counts()"
   ]
  },
  {
   "cell_type": "code",
   "execution_count": null,
   "id": "41b4924c",
   "metadata": {},
   "outputs": [],
   "source": []
  },
  {
   "cell_type": "code",
   "execution_count": null,
   "id": "35beee4a",
   "metadata": {},
   "outputs": [],
   "source": [
    "x=df.drop(\"target\", axis=1)\n",
    "\n",
    "y=df['target']"
   ]
  },
  {
   "cell_type": "code",
   "execution_count": null,
   "id": "531f7f6e",
   "metadata": {},
   "outputs": [],
   "source": [
    "x_train, x_test, y_train, y_test =train_test_split(x,y, test_size=0.20, random_state=1, stratify=y)"
   ]
  },
  {
   "cell_type": "markdown",
   "id": "343d84ef",
   "metadata": {},
   "source": [
    "## create instance"
   ]
  },
  {
   "cell_type": "code",
   "execution_count": null,
   "id": "30f01501",
   "metadata": {},
   "outputs": [],
   "source": [
    "model= LogisticRegression()\n",
    "model.fit(x_train, y_train)"
   ]
  },
  {
   "cell_type": "markdown",
   "id": "2d60ec27",
   "metadata": {},
   "source": [
    "## Model evaluation"
   ]
  },
  {
   "cell_type": "code",
   "execution_count": null,
   "id": "47bc3c2b",
   "metadata": {},
   "outputs": [],
   "source": [
    "## testing data\n",
    "\n",
    "y_pred = model.predict(x_test)\n",
    "\n",
    "confusion_matrix= confusion_matrix(y_test, y_pred)\n",
    "\n",
    "classification_report = classification_report(y_test, y_pred)\n",
    "\n",
    "accuracy_score = accuracy_score(y_test,y_pred)\n",
    "\n",
    "print(\"confusion_matrix:\\n\", confusion_matrix)\n",
    "print(\"*\"*80)\n",
    "\n",
    "print(\"classification_report>>\", classification_report)\n",
    "print(\"*\"*80)\n",
    "\n",
    "print(\"accuracy_score>>\",accuracy_score)\n",
    "print(\"*\"*80)"
   ]
  },
  {
   "cell_type": "code",
   "execution_count": null,
   "id": "a3137587",
   "metadata": {},
   "outputs": [],
   "source": [
    "## training data\n",
    "\n",
    "y_pred_train = model.predict(x_train)\n",
    "\n",
    "confusion_matrix= confusion_matrix(y_train, y_pred_train)\n",
    "\n",
    "classification_report = classification_report(y_train, y_pred_train)\n",
    "\n",
    "accuracy_score = accuracy_score(y_train, y_pred_train)\n",
    "\n",
    "print(\"confusion_matrix:\\n\", confusion_matrix)\n",
    "print(\"*\"*80)\n",
    "\n",
    "print(\"classification_report>>\", classification_report)\n",
    "print(\"*\"*80)\n",
    "\n",
    "print(\"accuracy_score>>\",accuracy_score)\n",
    "print(\"*\"*80)"
   ]
  },
  {
   "cell_type": "markdown",
   "id": "907066c3",
   "metadata": {},
   "source": [
    "## Testing on single row"
   ]
  },
  {
   "cell_type": "code",
   "execution_count": null,
   "id": "efdf4aef",
   "metadata": {},
   "outputs": [],
   "source": [
    "column_names =x.columns\n",
    "column_names"
   ]
  },
  {
   "cell_type": "code",
   "execution_count": null,
   "id": "4bbf4e17",
   "metadata": {},
   "outputs": [],
   "source": [
    "x.head(1).T"
   ]
  },
  {
   "cell_type": "code",
   "execution_count": null,
   "id": "4284be18",
   "metadata": {},
   "outputs": [],
   "source": [
    "age= 24.0\n",
    "sex= 0.0\n",
    "cp= 3.0\n",
    "trestbp= 145.0\n",
    "chol= 233.0\n",
    "fbs= 1.0\n",
    "restecg= 0.0\n",
    "thalach= 150.0\n",
    "exang= 0.0\n",
    "oldpeak= 2.3\n",
    "slope= 0.0\n",
    "ca= 0.0\n",
    "thal= 1.0"
   ]
  },
  {
   "cell_type": "code",
   "execution_count": null,
   "id": "1890f5c2",
   "metadata": {},
   "outputs": [],
   "source": [
    "array= np.array([age,sex,cp,trestbp,chol,fbs,restecg,thalach,exang,oldpeak,slope,ca,thal])\n",
    "array"
   ]
  },
  {
   "cell_type": "code",
   "execution_count": null,
   "id": "ca1139ca",
   "metadata": {},
   "outputs": [],
   "source": [
    "heart_prediction= model.predict([array])[0]\n",
    "heart_prediction"
   ]
  },
  {
   "cell_type": "code",
   "execution_count": null,
   "id": "8d0e0b70",
   "metadata": {},
   "outputs": [],
   "source": [
    "project_data = {\"column_names\": list(column_names)}\n",
    "project_data"
   ]
  },
  {
   "cell_type": "code",
   "execution_count": null,
   "id": "96ef6b99",
   "metadata": {},
   "outputs": [],
   "source": [
    "import json\n",
    "\n",
    "with open(\"heart.json\", \"w\") as f:\n",
    "    json.dump(project_data,f)"
   ]
  },
  {
   "cell_type": "code",
   "execution_count": null,
   "id": "ef945c6a",
   "metadata": {},
   "outputs": [],
   "source": [
    "import pickle\n",
    "\n",
    "with open(\"Heart.pkl\", \"wb\") as f:\n",
    "    pickle.dump(model,f)"
   ]
  },
  {
   "cell_type": "code",
   "execution_count": null,
   "id": "6fde8eee",
   "metadata": {},
   "outputs": [],
   "source": []
  },
  {
   "cell_type": "code",
   "execution_count": null,
   "id": "ee2d101b",
   "metadata": {},
   "outputs": [],
   "source": []
  }
 ],
 "metadata": {
  "kernelspec": {
   "display_name": "Python 3 (ipykernel)",
   "language": "python",
   "name": "python3"
  },
  "language_info": {
   "codemirror_mode": {
    "name": "ipython",
    "version": 3
   },
   "file_extension": ".py",
   "mimetype": "text/x-python",
   "name": "python",
   "nbconvert_exporter": "python",
   "pygments_lexer": "ipython3",
   "version": "3.9.12"
  }
 },
 "nbformat": 4,
 "nbformat_minor": 5
}
